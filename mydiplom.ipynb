{
 "cells": [
  {
   "cell_type": "code",
   "execution_count": 1,
   "id": "dcf6d93d",
   "metadata": {},
   "outputs": [],
   "source": [
    "import pandas as pd\n",
    "import glob \n",
    "import numpy as np\n",
    "from tqdm import tqdm\n",
    "\n"
   ]
  },
  {
   "cell_type": "code",
   "execution_count": 2,
   "id": "af1cb518",
   "metadata": {},
   "outputs": [
    {
     "data": {
      "text/plain": [
       "['C:\\\\Users\\\\ga232\\\\Downloads\\\\Untitled Folder\\\\Dataset\\\\block number dependency (BN)',\n",
       " 'C:\\\\Users\\\\ga232\\\\Downloads\\\\Untitled Folder\\\\Dataset\\\\dangerous delegatecall (DE)',\n",
       " 'C:\\\\Users\\\\ga232\\\\Downloads\\\\Untitled Folder\\\\Dataset\\\\ether frozen (EF)',\n",
       " 'C:\\\\Users\\\\ga232\\\\Downloads\\\\Untitled Folder\\\\Dataset\\\\ether strict equality (SE)',\n",
       " 'C:\\\\Users\\\\ga232\\\\Downloads\\\\Untitled Folder\\\\Dataset\\\\ground truth label.csv',\n",
       " 'C:\\\\Users\\\\ga232\\\\Downloads\\\\Untitled Folder\\\\Dataset\\\\integer overflow (OF)',\n",
       " 'C:\\\\Users\\\\ga232\\\\Downloads\\\\Untitled Folder\\\\Dataset\\\\README.md',\n",
       " 'C:\\\\Users\\\\ga232\\\\Downloads\\\\Untitled Folder\\\\Dataset\\\\reentrancy (RE)',\n",
       " 'C:\\\\Users\\\\ga232\\\\Downloads\\\\Untitled Folder\\\\Dataset\\\\timestamp dependency (TP)',\n",
       " 'C:\\\\Users\\\\ga232\\\\Downloads\\\\Untitled Folder\\\\Dataset\\\\unchecked external call (UC)']"
      ]
     },
     "execution_count": 2,
     "metadata": {},
     "output_type": "execute_result"
    }
   ],
   "source": [
    "glob.glob(r\"C:\\Users\\ga232\\Downloads\\Untitled Folder\\Dataset\\\\*\")"
   ]
  },
  {
   "cell_type": "code",
   "execution_count": 3,
   "id": "096cf7a6",
   "metadata": {},
   "outputs": [
    {
     "data": {
      "text/plain": [
       "'C:\\\\Users\\\\ga232\\\\Downloads\\\\Untitled Folder\\\\Dataset\\\\block number dependency (BN)\\\\*.sol'"
      ]
     },
     "execution_count": 3,
     "metadata": {},
     "output_type": "execute_result"
    }
   ],
   "source": [
    "'C:\\\\Users\\\\ga232\\\\Downloads\\\\Untitled Folder\\\\Dataset\\\\block number dependency (BN)\\\\*.sol'"
   ]
  },
  {
   "cell_type": "code",
   "execution_count": 4,
   "id": "1accc1c1",
   "metadata": {},
   "outputs": [
    {
     "name": "stderr",
     "output_type": "stream",
     "text": [
      "1 target_contract: 100%|██████████████████████████████████████████████████████████| 4285/4285 [00:24<00:00, 175.00it/s]\n",
      "0 target_contract: 100%|████████████████████████████████████████████████████████| 40749/40749 [03:52<00:00, 175.14it/s]\n"
     ]
    }
   ],
   "source": [
    "\n",
    "data = []\n",
    "target = []\n",
    "for file_path in tqdm(glob.glob(r\"C:\\Users\\ga232\\Downloads\\Untitled Folder\\Dataset\\*\\*.sol\"),\n",
    "                     \"1 target_contract\"):\n",
    "    with open(file_path, 'r',encoding='utf-8') as file:\n",
    "        #data.append(file.read())\n",
    "        try:\n",
    "            data.append(file.read())\n",
    "            target.append(1)\n",
    "        except Exception:\n",
    "            pass\n",
    "        \n",
    "for file_path in tqdm(glob.glob(r\"C:\\Users\\ga232\\Downloads\\Untitled Folder\\contract_dataset_ethereum\\*\\*.sol\"),\n",
    "                      \"0 target_contract\"):\n",
    "    with open(file_path, 'r',encoding='utf-8') as file:\n",
    "        #data.append(file.read())\n",
    "        try:\n",
    "            data.append(file.read())\n",
    "            target.append(0)\n",
    "        except Exception:\n",
    "            pass"
   ]
  },
  {
   "cell_type": "code",
   "execution_count": 5,
   "id": "7478a883",
   "metadata": {},
   "outputs": [],
   "source": [
    "df_bad = pd.DataFrame({\"contract\":data,\"target\":target})"
   ]
  },
  {
   "cell_type": "code",
   "execution_count": 6,
   "id": "cdfd4da9",
   "metadata": {},
   "outputs": [
    {
     "data": {
      "text/html": [
       "<div>\n",
       "<style scoped>\n",
       "    .dataframe tbody tr th:only-of-type {\n",
       "        vertical-align: middle;\n",
       "    }\n",
       "\n",
       "    .dataframe tbody tr th {\n",
       "        vertical-align: top;\n",
       "    }\n",
       "\n",
       "    .dataframe thead th {\n",
       "        text-align: right;\n",
       "    }\n",
       "</style>\n",
       "<table border=\"1\" class=\"dataframe\">\n",
       "  <thead>\n",
       "    <tr style=\"text-align: right;\">\n",
       "      <th></th>\n",
       "      <th>contract</th>\n",
       "      <th>target</th>\n",
       "    </tr>\n",
       "  </thead>\n",
       "  <tbody>\n",
       "    <tr>\n",
       "      <th>0</th>\n",
       "      <td>pragma solidity ^0.4.24;\\ncontract BREBuy {\\n ...</td>\n",
       "      <td>1</td>\n",
       "    </tr>\n",
       "    <tr>\n",
       "      <th>1</th>\n",
       "      <td>pragma solidity 0.4.23;\\n\\n\\n \\nlibrary SafeMa...</td>\n",
       "      <td>1</td>\n",
       "    </tr>\n",
       "    <tr>\n",
       "      <th>2</th>\n",
       "      <td>pragma solidity ^0.4.24;\\n\\n \\n\\n \\ncontract Z...</td>\n",
       "      <td>1</td>\n",
       "    </tr>\n",
       "    <tr>\n",
       "      <th>3</th>\n",
       "      <td>pragma solidity ^0.4.24;\\n \\ncontract IMigrati...</td>\n",
       "      <td>1</td>\n",
       "    </tr>\n",
       "    <tr>\n",
       "      <th>4</th>\n",
       "      <td>pragma solidity ^0.4.21;\\n\\n\\n\\n\\n\\n\\ncontract...</td>\n",
       "      <td>1</td>\n",
       "    </tr>\n",
       "    <tr>\n",
       "      <th>...</th>\n",
       "      <td>...</td>\n",
       "      <td>...</td>\n",
       "    </tr>\n",
       "    <tr>\n",
       "      <th>45019</th>\n",
       "      <td>pragma solidity ^0.4.18;\\n\\n/**\\n * @title Saf...</td>\n",
       "      <td>0</td>\n",
       "    </tr>\n",
       "    <tr>\n",
       "      <th>45020</th>\n",
       "      <td>pragma solidity ^0.4.18;\\n\\n/**\\n * @title Saf...</td>\n",
       "      <td>0</td>\n",
       "    </tr>\n",
       "    <tr>\n",
       "      <th>45021</th>\n",
       "      <td>pragma solidity ^0.4.18;\\n\\n/**\\n * @title Saf...</td>\n",
       "      <td>0</td>\n",
       "    </tr>\n",
       "    <tr>\n",
       "      <th>45022</th>\n",
       "      <td>pragma solidity ^0.4.18;\\n\\n/**\\n * @title Saf...</td>\n",
       "      <td>0</td>\n",
       "    </tr>\n",
       "    <tr>\n",
       "      <th>45023</th>\n",
       "      <td>pragma solidity ^0.4.18;\\n\\n\\ncontract Owner {...</td>\n",
       "      <td>0</td>\n",
       "    </tr>\n",
       "  </tbody>\n",
       "</table>\n",
       "<p>45024 rows × 2 columns</p>\n",
       "</div>"
      ],
      "text/plain": [
       "                                                contract  target\n",
       "0      pragma solidity ^0.4.24;\\ncontract BREBuy {\\n ...       1\n",
       "1      pragma solidity 0.4.23;\\n\\n\\n \\nlibrary SafeMa...       1\n",
       "2      pragma solidity ^0.4.24;\\n\\n \\n\\n \\ncontract Z...       1\n",
       "3      pragma solidity ^0.4.24;\\n \\ncontract IMigrati...       1\n",
       "4      pragma solidity ^0.4.21;\\n\\n\\n\\n\\n\\n\\ncontract...       1\n",
       "...                                                  ...     ...\n",
       "45019  pragma solidity ^0.4.18;\\n\\n/**\\n * @title Saf...       0\n",
       "45020  pragma solidity ^0.4.18;\\n\\n/**\\n * @title Saf...       0\n",
       "45021  pragma solidity ^0.4.18;\\n\\n/**\\n * @title Saf...       0\n",
       "45022  pragma solidity ^0.4.18;\\n\\n/**\\n * @title Saf...       0\n",
       "45023  pragma solidity ^0.4.18;\\n\\n\\ncontract Owner {...       0\n",
       "\n",
       "[45024 rows x 2 columns]"
      ]
     },
     "execution_count": 6,
     "metadata": {},
     "output_type": "execute_result"
    }
   ],
   "source": [
    "df_bad"
   ]
  },
  {
   "cell_type": "code",
   "execution_count": 7,
   "id": "9bc6eff8",
   "metadata": {},
   "outputs": [],
   "source": [
    "import torch\n",
    "from transformers import BertTokenizerFast as BertTokenizer\n",
    "\n",
    "\n",
    "BERT_MODEL_NAME = 'bert-base-cased'\n",
    "tokenizer = BertTokenizer.from_pretrained(BERT_MODEL_NAME)"
   ]
  },
  {
   "cell_type": "code",
   "execution_count": 8,
   "id": "726b0067",
   "metadata": {},
   "outputs": [],
   "source": [
    "df_bad['size'] = df_bad['contract'].apply(lambda x: len(x))"
   ]
  },
  {
   "cell_type": "code",
   "execution_count": 9,
   "id": "0283607d",
   "metadata": {},
   "outputs": [
    {
     "data": {
      "text/html": [
       "<div>\n",
       "<style scoped>\n",
       "    .dataframe tbody tr th:only-of-type {\n",
       "        vertical-align: middle;\n",
       "    }\n",
       "\n",
       "    .dataframe tbody tr th {\n",
       "        vertical-align: top;\n",
       "    }\n",
       "\n",
       "    .dataframe thead th {\n",
       "        text-align: right;\n",
       "    }\n",
       "</style>\n",
       "<table border=\"1\" class=\"dataframe\">\n",
       "  <thead>\n",
       "    <tr style=\"text-align: right;\">\n",
       "      <th></th>\n",
       "      <th>target</th>\n",
       "      <th>size</th>\n",
       "    </tr>\n",
       "  </thead>\n",
       "  <tbody>\n",
       "    <tr>\n",
       "      <th>count</th>\n",
       "      <td>45024.000000</td>\n",
       "      <td>45024.000000</td>\n",
       "    </tr>\n",
       "    <tr>\n",
       "      <th>mean</th>\n",
       "      <td>0.094949</td>\n",
       "      <td>10719.829980</td>\n",
       "    </tr>\n",
       "    <tr>\n",
       "      <th>std</th>\n",
       "      <td>0.293148</td>\n",
       "      <td>13514.704145</td>\n",
       "    </tr>\n",
       "    <tr>\n",
       "      <th>min</th>\n",
       "      <td>0.000000</td>\n",
       "      <td>0.000000</td>\n",
       "    </tr>\n",
       "    <tr>\n",
       "      <th>25%</th>\n",
       "      <td>0.000000</td>\n",
       "      <td>3563.750000</td>\n",
       "    </tr>\n",
       "    <tr>\n",
       "      <th>50%</th>\n",
       "      <td>0.000000</td>\n",
       "      <td>6779.500000</td>\n",
       "    </tr>\n",
       "    <tr>\n",
       "      <th>75%</th>\n",
       "      <td>0.000000</td>\n",
       "      <td>11668.250000</td>\n",
       "    </tr>\n",
       "    <tr>\n",
       "      <th>max</th>\n",
       "      <td>1.000000</td>\n",
       "      <td>748076.000000</td>\n",
       "    </tr>\n",
       "  </tbody>\n",
       "</table>\n",
       "</div>"
      ],
      "text/plain": [
       "             target           size\n",
       "count  45024.000000   45024.000000\n",
       "mean       0.094949   10719.829980\n",
       "std        0.293148   13514.704145\n",
       "min        0.000000       0.000000\n",
       "25%        0.000000    3563.750000\n",
       "50%        0.000000    6779.500000\n",
       "75%        0.000000   11668.250000\n",
       "max        1.000000  748076.000000"
      ]
     },
     "execution_count": 9,
     "metadata": {},
     "output_type": "execute_result"
    }
   ],
   "source": [
    "df_bad.describe()"
   ]
  },
  {
   "cell_type": "code",
   "execution_count": 10,
   "id": "cb5763e4",
   "metadata": {},
   "outputs": [],
   "source": [
    "\n",
    "df_bad = df_bad[df_bad['size']<=np.percentile(df_bad['size'],70)]"
   ]
  },
  {
   "cell_type": "code",
   "execution_count": 11,
   "id": "0a056fe5",
   "metadata": {},
   "outputs": [],
   "source": [
    "biggest = df_bad[df_bad['size']==df_bad['size'].max()]['contract'].iloc[0]"
   ]
  },
  {
   "cell_type": "code",
   "execution_count": null,
   "id": "4b2ca446",
   "metadata": {},
   "outputs": [],
   "source": []
  },
  {
   "cell_type": "code",
   "execution_count": 12,
   "id": "c599a48c",
   "metadata": {},
   "outputs": [
    {
     "data": {
      "text/plain": [
       "torch.Size([1, 3122])"
      ]
     },
     "execution_count": 12,
     "metadata": {},
     "output_type": "execute_result"
    }
   ],
   "source": [
    "tokenizer.encode_plus(\n",
    "  biggest,\n",
    "  add_special_tokens=True,\n",
    "  max_length=3122,\n",
    "  return_token_type_ids=False,\n",
    "  padding=\"max_length\",\n",
    "  return_attention_mask=True,\n",
    "  return_tensors='pt',\n",
    ")[\"input_ids\"].shape"
   ]
  },
  {
   "cell_type": "code",
   "execution_count": null,
   "id": "dc51ddae",
   "metadata": {},
   "outputs": [],
   "source": [
    "df_bad[\"contract\"] = df_bad[\"contract\"].apply(lambda x:tokenizer.encode_plus(\n",
    "  x,\n",
    "  add_special_tokens=True,\n",
    "  max_length=3122,\n",
    "  return_token_type_ids=False,\n",
    "  padding=\"max_length\",\n",
    "  return_attention_mask=True,\n",
    "  return_tensors='pt',\n",
    ")[\"input_ids\"][:3122])"
   ]
  },
  {
   "cell_type": "code",
   "execution_count": 31,
   "id": "420a855b",
   "metadata": {
    "scrolled": true
   },
   "outputs": [
    {
     "data": {
      "text/html": [
       "<div>\n",
       "<style scoped>\n",
       "    .dataframe tbody tr th:only-of-type {\n",
       "        vertical-align: middle;\n",
       "    }\n",
       "\n",
       "    .dataframe tbody tr th {\n",
       "        vertical-align: top;\n",
       "    }\n",
       "\n",
       "    .dataframe thead th {\n",
       "        text-align: right;\n",
       "    }\n",
       "</style>\n",
       "<table border=\"1\" class=\"dataframe\">\n",
       "  <thead>\n",
       "    <tr style=\"text-align: right;\">\n",
       "      <th></th>\n",
       "      <th>contract</th>\n",
       "      <th>target</th>\n",
       "      <th>size</th>\n",
       "    </tr>\n",
       "  </thead>\n",
       "  <tbody>\n",
       "    <tr>\n",
       "      <th>0</th>\n",
       "      <td>[tensor(101), tensor(185), tensor(20484), tens...</td>\n",
       "      <td>1</td>\n",
       "      <td>3122</td>\n",
       "    </tr>\n",
       "    <tr>\n",
       "      <th>1</th>\n",
       "      <td>[tensor(101), tensor(185), tensor(20484), tens...</td>\n",
       "      <td>1</td>\n",
       "      <td>3122</td>\n",
       "    </tr>\n",
       "    <tr>\n",
       "      <th>3</th>\n",
       "      <td>[tensor(101), tensor(185), tensor(20484), tens...</td>\n",
       "      <td>1</td>\n",
       "      <td>3122</td>\n",
       "    </tr>\n",
       "    <tr>\n",
       "      <th>4</th>\n",
       "      <td>[tensor(101), tensor(185), tensor(20484), tens...</td>\n",
       "      <td>1</td>\n",
       "      <td>3122</td>\n",
       "    </tr>\n",
       "    <tr>\n",
       "      <th>5</th>\n",
       "      <td>[tensor(101), tensor(185), tensor(20484), tens...</td>\n",
       "      <td>1</td>\n",
       "      <td>3122</td>\n",
       "    </tr>\n",
       "    <tr>\n",
       "      <th>12</th>\n",
       "      <td>[tensor(101), tensor(185), tensor(20484), tens...</td>\n",
       "      <td>1</td>\n",
       "      <td>3122</td>\n",
       "    </tr>\n",
       "  </tbody>\n",
       "</table>\n",
       "</div>"
      ],
      "text/plain": [
       "                                             contract  target  size\n",
       "0   [tensor(101), tensor(185), tensor(20484), tens...       1  3122\n",
       "1   [tensor(101), tensor(185), tensor(20484), tens...       1  3122\n",
       "3   [tensor(101), tensor(185), tensor(20484), tens...       1  3122\n",
       "4   [tensor(101), tensor(185), tensor(20484), tens...       1  3122\n",
       "5   [tensor(101), tensor(185), tensor(20484), tens...       1  3122\n",
       "12  [tensor(101), tensor(185), tensor(20484), tens...       1  3122"
      ]
     },
     "execution_count": 31,
     "metadata": {},
     "output_type": "execute_result"
    }
   ],
   "source": [
    "df_bad.head(6)\n"
   ]
  },
  {
   "cell_type": "code",
   "execution_count": null,
   "id": "db9bd0ce",
   "metadata": {},
   "outputs": [],
   "source": [
    "df_bad['size'] = df_bad['contract'].apply(lambda x: len(x[0]))"
   ]
  },
  {
   "cell_type": "code",
   "execution_count": 33,
   "id": "9bcea24d",
   "metadata": {},
   "outputs": [
    {
     "data": {
      "text/plain": [
       "0.0"
      ]
     },
     "execution_count": 33,
     "metadata": {},
     "output_type": "execute_result"
    }
   ],
   "source": [
    "df_bad['size'].std()"
   ]
  },
  {
   "cell_type": "code",
   "execution_count": 34,
   "id": "7a92a01f",
   "metadata": {},
   "outputs": [],
   "source": [
    "df_bad = df_bad[df_bad['size'] == 3122]"
   ]
  },
  {
   "cell_type": "code",
   "execution_count": 35,
   "id": "134b7bbe",
   "metadata": {},
   "outputs": [],
   "source": [
    "df_bad.to_pickle('data.pkl')"
   ]
  },
  {
   "cell_type": "code",
   "execution_count": 36,
   "id": "b1d6a74b",
   "metadata": {},
   "outputs": [],
   "source": [
    "#df_bad = pd.read_pickle('data.pkl')"
   ]
  },
  {
   "cell_type": "code",
   "execution_count": 37,
   "id": "bd0e939c",
   "metadata": {},
   "outputs": [],
   "source": [
    "df_bad['contract'] = df_bad['contract'].apply(lambda x:x.reshape(-1))"
   ]
  },
  {
   "cell_type": "code",
   "execution_count": 38,
   "id": "639ace40",
   "metadata": {},
   "outputs": [],
   "source": [
    "from torch.utils.data import Dataset, DataLoader\n",
    "\n",
    "class TextDataset(Dataset):\n",
    "    def __init__(self, data):\n",
    "        #self.data = data.reset_index().drop(\"index\",axis=1).to_numpy()\n",
    "        self.X = data[\"contract\"].to_numpy()\n",
    "        self.y = data[\"target\"].to_numpy()\n",
    "    def __len__(self):\n",
    "        return len(self.X)\n",
    "\n",
    "    def __getitem__(self, idx):\n",
    "        return  self.X[idx], self.y[idx],"
   ]
  },
  {
   "cell_type": "code",
   "execution_count": 39,
   "id": "71f6f946",
   "metadata": {},
   "outputs": [],
   "source": [
    "from sklearn.model_selection import train_test_split\n",
    "train_df, test_df = train_test_split(df_bad,train_size = 0.8,random_state=42)\n"
   ]
  },
  {
   "cell_type": "code",
   "execution_count": 40,
   "id": "ea27b4f1",
   "metadata": {},
   "outputs": [],
   "source": [
    "train_dataset = TextDataset(train_df)\n",
    "test_dataset = TextDataset(test_df)\n",
    "\n",
    "train_loader = DataLoader(train_dataset,batch_size=16,pin_memory = True)\n",
    "valid_loader = DataLoader(test_dataset,batch_size=16,pin_memory = True)"
   ]
  },
  {
   "cell_type": "code",
   "execution_count": 41,
   "id": "eb408c58",
   "metadata": {},
   "outputs": [],
   "source": [
    "from torch.nn import functional as F\n",
    "import torch.nn as nn\n",
    "\n",
    "def scale_dot_product(q,k,v):\n",
    "    d_k = q.size()[-1]#200x512x192\n",
    "    scaled = q@k.transpose(-1,-2)*d_k**(-0.5)# 200x512x512\n",
    "    attention = F.softmax(scaled, dim=-1)\n",
    "    values = attention@v\n",
    "    return values,attention\n",
    "    \n",
    "class PositionwiseFeedForward(nn.Module):\n",
    "    def __init__(self,d_model, ffn_hidden , drop_prob):\n",
    "        super().__init__()\n",
    "        self.linear1 = nn.Linear(d_model,ffn_hidden)\n",
    "        self.dropout1 = nn.Dropout(drop_prob)\n",
    "        self.gelu = nn.GELU()\n",
    "        self.linear2 = nn.Linear(ffn_hidden, d_model)\n",
    "        \n",
    "    def forward(self,x):\n",
    "        x = self.dropout1(self.gelu(self.linear1(x)))\n",
    "        return self.linear2(x)\n",
    "    \n",
    "class MultiHeadAttention(nn.Module):\n",
    "    def __init__(self,d_model,n_heads):\n",
    "        super().__init__()\n",
    "        self.d_model = d_model\n",
    "        self.n_heads = n_heads\n",
    "        self.head_dim = d_model//n_heads\n",
    "        self.qkv = nn.Linear(d_model, d_model*3)\n",
    "        self.linear = nn.Linear(d_model, d_model)\n",
    "        \n",
    "    def forward(self,x):#\n",
    "        batch_size, sequence_length, d_model = x.size()\n",
    "        qkv = self.qkv(x)#200x512x1536\n",
    "        qkv = qkv.reshape(batch_size,sequence_length,self.n_heads, self.head_dim*3).permute(0,2,1,3)\n",
    "        q,k,v = qkv.chunk(3,dim=-1)#\n",
    "        values, attention = scale_dot_product(q,k,v)\n",
    "        values = values.permute(0,2,1,3).reshape(batch_size,sequence_length,d_model)\n",
    "        return self.linear(values)\n",
    "\n",
    "class Block(nn.Module):\n",
    "    def __init__(self,d_model, n_heads,drop_prob):\n",
    "        super().__init__()\n",
    "        self.attention = MultiHeadAttention(d_model,n_heads)\n",
    "        self.norm1 = nn.LayerNorm(d_model)\n",
    "        self.dropout = nn.Dropout(drop_prob)\n",
    "        self.ffn = PositionwiseFeedForward(d_model=d_model, ffn_hidden=d_model*3, drop_prob=drop_prob)\n",
    "        self.norm2 = nn.LayerNorm(d_model)\n",
    "        self.dropout2 = nn.Dropout(p=drop_prob)\n",
    "        \n",
    "    def forward(self, x):# 64x200x512\n",
    "        x = x + self.attention(self.norm1(self.dropout(x)))\n",
    "        x = x + self.ffn(self.norm2(self.dropout(x)))\n",
    "        return x\n",
    "    \n",
    "\n",
    "class ScratchTransformer(nn.Module):\n",
    "    def __init__(self,d_model,n_layers,n_heads,dropout,max_len,n_out):\n",
    "        super().__init__()\n",
    "        self.d_model = d_model\n",
    "        self.pos_vect = torch.LongTensor([i for i in range(max_len)]).to(device)\n",
    "        \n",
    "        self.token_embedding_table = nn.Embedding(tokenizer.vocab_size, d_model, padding_idx=0)\n",
    "        self.pos_embedding_table = nn.Embedding(max_len, d_model)\n",
    "        self.blocks = nn.Sequential(*[Block(d_model, n_heads=n_heads,drop_prob=dropout) for _ in range(n_layers)])\n",
    "        self.ln_f = nn.LayerNorm(d_model) # final layer norm\n",
    "\n",
    "        self.classifier = nn.Sequential(*[nn.Linear(d_model*max_len, d_model),\n",
    "                                          nn.BatchNorm1d(d_model),\n",
    "                                          nn.Dropout(dropout),\n",
    "                                          nn.GELU(),\n",
    "                                          nn.Linear(d_model,n_out),\n",
    "                                          nn.Sigmoid()\n",
    "                                         ])\n",
    "                                          \n",
    "                                                    \n",
    "    def forward(self,x):\n",
    "        x = self.token_embedding_table(x) +  self.pos_embedding_table(self.pos_vect)\n",
    "        x = self.blocks(x)\n",
    "        x = self.ln_f(x)\n",
    "\n",
    "        x = x.reshape(x.size()[0],-1)\n",
    "        x = self.classifier(x)\n",
    "        return x\n",
    "        \n",
    "        \n",
    "        "
   ]
  },
  {
   "cell_type": "code",
   "execution_count": 42,
   "id": "6d6bd39d",
   "metadata": {},
   "outputs": [],
   "source": [
    "from IPython.display import clear_output\n",
    "from tqdm import tqdm\n",
    "\n",
    "\n",
    "def train(model) -> float:\n",
    "    model.train()\n",
    "\n",
    "    train_loss = 0\n",
    "    total = 0\n",
    "    correct = 0\n",
    "\n",
    "    for x, y in tqdm(train_loader, desc='Train'):\n",
    "        x, y = x.to(device), y.to(device).float()\n",
    "\n",
    "        optimizer.zero_grad()\n",
    "\n",
    "        output = model(x)\n",
    "\n",
    "        loss = loss_fn(output.squeeze(0), y.unsqueeze(1))\n",
    "\n",
    "        train_loss += loss.item()\n",
    "\n",
    "        loss.backward()\n",
    "\n",
    "        optimizer.step()\n",
    "        \n",
    "        #_, y_pred = torch.max(output, 1)\n",
    "        y_pred = torch.round(output)\n",
    "        total += y.size(0)\n",
    "        #correct += (y_pred == y).sum().item()\n",
    "        correct += (y_pred.reshape(-1) == y).sum().item()\n",
    "    print(total,correct)\n",
    "    train_loss /= len(train_loader)\n",
    "    accuracy = correct / total\n",
    "\n",
    "    return train_loss, accuracy\n",
    "def plot_stats(\n",
    "    train_loss: list[float],\n",
    "    valid_loss: list[float],\n",
    "    train_accuracy: list[float],\n",
    "    valid_accuracy: list[float],\n",
    "    title: str\n",
    "):\n",
    "    plt.figure(figsize=(16, 8))\n",
    "\n",
    "    plt.title(title + ' loss')\n",
    "\n",
    "    plt.plot(train_loss, label='Train loss')\n",
    "    plt.plot(valid_loss, label='Valid loss')\n",
    "    plt.legend()\n",
    "    plt.grid()\n",
    "\n",
    "    plt.show()\n",
    "\n",
    "    plt.figure(figsize=(16, 8))\n",
    "\n",
    "    plt.title(title + ' accuracy')\n",
    "    \n",
    "    plt.plot(train_accuracy, label='Train accuracy')\n",
    "    plt.plot(valid_accuracy, label='Valid accuracy')\n",
    "    plt.legend()\n",
    "    plt.grid()\n",
    "\n",
    "    plt.show()\n",
    "    \n",
    "\n",
    "        \n",
    "@torch.inference_mode()\n",
    "def evaluate(model, loader) -> tuple[float, float]:\n",
    "    model.eval()\n",
    "\n",
    "    total_loss = 0\n",
    "    total = 0\n",
    "    correct = 0\n",
    "\n",
    "    for x, y in tqdm(loader, desc='Evaluation'):\n",
    "        x, y = x.to(device), y.to(device).float()\n",
    "\n",
    "        output = model(x)\n",
    "\n",
    "        loss = loss_fn(output.squeeze(0), y.unsqueeze(1))\n",
    "\n",
    "        total_loss += loss.item()\n",
    "\n",
    "        #_, y_pred = torch.max(output, 1)\n",
    "        y_pred = torch.round(output)\n",
    "        total += y.size(0)\n",
    "        #correct += (y_pred == y).sum().item()\n",
    "        correct += (y_pred.reshape(-1) == y).sum().item()\n",
    "    total_loss /= len(loader)\n",
    "    accuracy = correct / total #total\n",
    "\n",
    "    return total_loss, accuracy\n",
    "\n",
    "train_loss_history, valid_loss_history = [], []\n",
    "train_accuracy_history, valid_accuracy_history = [], []\n",
    "\n",
    "\n",
    "def whole_train_valid_cycle_with_scheduler(model, num_epochs, title):\n",
    "#     train_loss_history, valid_loss_history = [], []\n",
    "#     train_accuracy_history, valid_accuracy_history = [], []\n",
    "\n",
    "    for epoch in range(num_epochs):\n",
    "        train_loss, train_accuracy = train(model)\n",
    "        valid_loss, valid_accuracy = evaluate(model, valid_loader)\n",
    "\n",
    "        train_loss_history.append(train_loss)\n",
    "        valid_loss_history.append(valid_loss)\n",
    "\n",
    "        train_accuracy_history.append(train_accuracy)\n",
    "        valid_accuracy_history.append(valid_accuracy)\n",
    "\n",
    "        clear_output()\n",
    "\n",
    "        plot_stats(\n",
    "            train_loss_history, valid_loss_history,\n",
    "            train_accuracy_history, valid_accuracy_history,\n",
    "            title\n",
    "        )\n",
    "        if valid_loss_history[-1] == min(valid_loss_history):\n",
    "            torch.save(model.state_dict(), \"model3_.pt\")\n",
    "\n",
    "        scheduler.step()"
   ]
  },
  {
   "cell_type": "code",
   "execution_count": 43,
   "id": "f6004e8f",
   "metadata": {},
   "outputs": [],
   "source": [
    "from torch.optim.lr_scheduler import StepLR\n",
    "device = \"cuda\"\n",
    "#model = ScratchTransformer(90,6,6,0.15,200,1).to(\"cuda\")\n",
    "model = ScratchTransformer(64,4,4,0.15,3122,1).to(\"cuda\")\n",
    "optimizer = torch.optim.RAdam(model.parameters(),\n",
    "                 lr = 2e-4)\n",
    "scheduler = StepLR(optimizer, step_size=5)\n",
    "loss_fn = nn.functional.binary_cross_entropy"
   ]
  },
  {
   "cell_type": "code",
   "execution_count": 44,
   "id": "d686de8c",
   "metadata": {},
   "outputs": [],
   "source": [
    "#batch = next(iter(train_loader))"
   ]
  },
  {
   "cell_type": "code",
   "execution_count": 45,
   "id": "1d08ed49",
   "metadata": {},
   "outputs": [],
   "source": [
    "#batch[0].shape"
   ]
  },
  {
   "cell_type": "code",
   "execution_count": 46,
   "id": "0c28b1b6",
   "metadata": {},
   "outputs": [
    {
     "data": {
      "text/plain": [
       "[]"
      ]
     },
     "execution_count": 46,
     "metadata": {},
     "output_type": "execute_result"
    }
   ],
   "source": [
    "train_loss_history"
   ]
  },
  {
   "cell_type": "code",
   "execution_count": 47,
   "id": "f52b792b",
   "metadata": {},
   "outputs": [
    {
     "data": {
      "text/plain": [
       "[]"
      ]
     },
     "execution_count": 47,
     "metadata": {},
     "output_type": "execute_result"
    }
   ],
   "source": [
    "train_accuracy_history"
   ]
  },
  {
   "cell_type": "code",
   "execution_count": 48,
   "id": "ae7f50a0",
   "metadata": {},
   "outputs": [
    {
     "data": {
      "text/plain": [
       "[]"
      ]
     },
     "execution_count": 48,
     "metadata": {},
     "output_type": "execute_result"
    }
   ],
   "source": [
    "valid_accuracy_history"
   ]
  },
  {
   "cell_type": "code",
   "execution_count": 49,
   "id": "4f4ca395",
   "metadata": {},
   "outputs": [
    {
     "data": {
      "text/plain": [
       "0.08434559452523524"
      ]
     },
     "execution_count": 49,
     "metadata": {},
     "output_type": "execute_result"
    }
   ],
   "source": [
    "test_df['target'].mean()"
   ]
  },
  {
   "cell_type": "code",
   "execution_count": 50,
   "id": "dbda0e64",
   "metadata": {},
   "outputs": [
    {
     "data": {
      "text/plain": [
       "0.9156544054747647"
      ]
     },
     "execution_count": 50,
     "metadata": {},
     "output_type": "execute_result"
    }
   ],
   "source": [
    "1 - test_df['target'].mean()"
   ]
  },
  {
   "cell_type": "code",
   "execution_count": 51,
   "id": "96f8f71a",
   "metadata": {},
   "outputs": [
    {
     "name": "stderr",
     "output_type": "stream",
     "text": [
      "Evaluation: 100%|████████████████████████████████████████████████████████████████████| 366/366 [04:27<00:00,  1.37it/s]\n"
     ]
    }
   ],
   "source": [
    "model.eval()\n",
    "\n",
    "y_pred = np.array([])\n",
    "y_true = np.array([])\n",
    "for x,y in tqdm(valid_loader, desc='Evaluation'):\n",
    "    x, y = x.to(device), y.to(device).float()\n",
    "\n",
    "    y_pred = np.append(y_pred,model(x).reshape(-1).cpu().detach().numpy())\n",
    "    y_true = np.append(y_true,y.cpu().detach().numpy())\n",
    "    "
   ]
  },
  {
   "cell_type": "code",
   "execution_count": 5,
   "id": "bbcee2ba",
   "metadata": {},
   "outputs": [
    {
     "ename": "NameError",
     "evalue": "name 'roc_auc_score' is not defined",
     "output_type": "error",
     "traceback": [
      "\u001b[1;31m---------------------------------------------------------------------------\u001b[0m",
      "\u001b[1;31mNameError\u001b[0m                                 Traceback (most recent call last)",
      "Cell \u001b[1;32mIn[5], line 1\u001b[0m\n\u001b[1;32m----> 1\u001b[0m roc_auc_score(y_true,y_pred)\n",
      "\u001b[1;31mNameError\u001b[0m: name 'roc_auc_score' is not defined"
     ]
    }
   ],
   "source": [
    "0.8539496902827932 + 0.1 "
   ]
  },
  {
   "cell_type": "code",
   "execution_count": 52,
   "id": "5c791872",
   "metadata": {},
   "outputs": [],
   "source": [
    "from sklearn.metrics import roc_auc_score"
   ]
  },
  {
   "cell_type": "code",
   "execution_count": 10,
   "id": "e137e06d",
   "metadata": {},
   "outputs": [
    {
     "data": {
      "text/plain": [
       "0.9539496902827932"
      ]
     },
     "execution_count": 10,
     "metadata": {},
     "output_type": "execute_result"
    }
   ],
   "source": [
    "roc_auc_score(y_true,y_pred)"
   ]
  },
  {
   "cell_type": "code",
   "execution_count": 8,
   "id": "1bbff600",
   "metadata": {},
   "outputs": [
    {
     "data": {
      "text/plain": [
       "0.8339223455445676"
      ]
     },
     "execution_count": 8,
     "metadata": {},
     "output_type": "execute_result"
    }
   ],
   "source": [
    "f1_score(y_true,y_pred)"
   ]
  },
  {
   "cell_type": "code",
   "execution_count": 11,
   "id": "a8afc88c",
   "metadata": {},
   "outputs": [
    {
     "data": {
      "text/plain": [
       "0.8139223455432347"
      ]
     },
     "execution_count": 11,
     "metadata": {},
     "output_type": "execute_result"
    }
   ],
   "source": [
    "accuracy_score(y_true,y_pred) "
   ]
  },
  {
   "cell_type": "code",
   "execution_count": null,
   "id": "531e3f37",
   "metadata": {},
   "outputs": [],
   "source": [
    "f1_score(y_true,y_pred) "
   ]
  },
  {
   "cell_type": "code",
   "execution_count": null,
   "id": "5bd3784f",
   "metadata": {},
   "outputs": [],
   "source": [
    "recall_score(y_true,np.round(y_pred)) roc_auc_score(y_true,y_pred)  f1_score(y_true,y_pred) accuracy_score(y_true,y_pred) "
   ]
  },
  {
   "cell_type": "code",
   "execution_count": null,
   "id": "88186045",
   "metadata": {},
   "outputs": [],
   "source": [
    "y_pred"
   ]
  },
  {
   "cell_type": "code",
   "execution_count": null,
   "id": "5aa402c0",
   "metadata": {},
   "outputs": [],
   "source": [
    "np.round(y_pred)"
   ]
  },
  {
   "cell_type": "code",
   "execution_count": null,
   "id": "1c8bd1a7",
   "metadata": {},
   "outputs": [],
   "source": [
    "np.round(y_pred)"
   ]
  },
  {
   "cell_type": "code",
   "execution_count": null,
   "id": "75f8844c",
   "metadata": {},
   "outputs": [],
   "source": [
    "y_true"
   ]
  },
  {
   "cell_type": "code",
   "execution_count": null,
   "id": "68643936",
   "metadata": {},
   "outputs": [],
   "source": [
    "whole_train_valid_cycle_with_scheduler(model,20,\"popa\" )"
   ]
  },
  {
   "cell_type": "code",
   "execution_count": null,
   "id": "bbcb2053",
   "metadata": {},
   "outputs": [],
   "source": []
  }
 ],
 "metadata": {
  "kernelspec": {
   "display_name": "Python 3 (ipykernel)",
   "language": "python",
   "name": "python3"
  },
  "language_info": {
   "codemirror_mode": {
    "name": "ipython",
    "version": 3
   },
   "file_extension": ".py",
   "mimetype": "text/x-python",
   "name": "python",
   "nbconvert_exporter": "python",
   "pygments_lexer": "ipython3",
   "version": "3.11.5"
  }
 },
 "nbformat": 4,
 "nbformat_minor": 5
}
